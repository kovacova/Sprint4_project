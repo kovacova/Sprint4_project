{
 "cells": [
  {
   "attachments": {},
   "cell_type": "markdown",
   "metadata": {},
   "source": [
    "## Project Description:\n",
    "This project is an analysis of the passenger data from the Titanic disaster in 1912. The data includes information about each passenger, suchas: age, gender, class, and fare, as well as whether they survived or not. We will explore the data and gain insights on factors that may have influenced survival rates.\n"
   ]
  },
  {
   "cell_type": "code",
   "execution_count": 5,
   "metadata": {},
   "outputs": [
    {
     "ename": "ModuleNotFoundError",
     "evalue": "No module named 'plotly'",
     "output_type": "error",
     "traceback": [
      "\u001b[0;31m---------------------------------------------------------------------------\u001b[0m",
      "\u001b[0;31mModuleNotFoundError\u001b[0m                       Traceback (most recent call last)",
      "Cell \u001b[0;32mIn[5], line 1\u001b[0m\n\u001b[0;32m----> 1\u001b[0m \u001b[39mimport\u001b[39;00m \u001b[39mplotly\u001b[39;00m\u001b[39m.\u001b[39;00m\u001b[39mexpress\u001b[39;00m \u001b[39mas\u001b[39;00m \u001b[39mpx\u001b[39;00m\n\u001b[1;32m      2\u001b[0m \u001b[39mimport\u001b[39;00m \u001b[39mpandas\u001b[39;00m \u001b[39mas\u001b[39;00m \u001b[39mpd\u001b[39;00m\n\u001b[1;32m      3\u001b[0m \u001b[39mimport\u001b[39;00m \u001b[39mstreamlit\u001b[39;00m \u001b[39mas\u001b[39;00m \u001b[39mst\u001b[39;00m\n",
      "\u001b[0;31mModuleNotFoundError\u001b[0m: No module named 'plotly'"
     ]
    }
   ],
   "source": [
    "\n",
    "import plotly.express as px\n",
    "import pandas as pd\n",
    "import streamlit as st"
   ]
  },
  {
   "cell_type": "code",
   "execution_count": 6,
   "metadata": {},
   "outputs": [
    {
     "ename": "NameError",
     "evalue": "name 'pd' is not defined",
     "output_type": "error",
     "traceback": [
      "\u001b[0;31m---------------------------------------------------------------------------\u001b[0m",
      "\u001b[0;31mNameError\u001b[0m                                 Traceback (most recent call last)",
      "Cell \u001b[0;32mIn[6], line 1\u001b[0m\n\u001b[0;32m----> 1\u001b[0m train \u001b[39m=\u001b[39m pd\u001b[39m.\u001b[39mread_csv(\n\u001b[1;32m      2\u001b[0m     \u001b[39m'\u001b[39m\u001b[39mtrain.csv\u001b[39m\u001b[39m'\u001b[39m)\n\u001b[1;32m      3\u001b[0m test \u001b[39m=\u001b[39m pd\u001b[39m.\u001b[39mread_csv(\u001b[39m'\u001b[39m\u001b[39mtest.csv\u001b[39m\u001b[39m'\u001b[39m)\n",
      "\u001b[0;31mNameError\u001b[0m: name 'pd' is not defined"
     ]
    }
   ],
   "source": [
    "train = pd.read_csv(\n",
    "    'train.csv')\n",
    "test = pd.read_csv('test.csv')"
   ]
  },
  {
   "cell_type": "code",
   "execution_count": null,
   "metadata": {},
   "outputs": [
    {
     "name": "stdout",
     "output_type": "stream",
     "text": [
      "   PassengerId  Survived  Pclass  \\\n",
      "0            1         0       3   \n",
      "1            2         1       1   \n",
      "2            3         1       3   \n",
      "3            4         1       1   \n",
      "4            5         0       3   \n",
      "\n",
      "                                                Name     Sex   Age  SibSp  \\\n",
      "0                            Braund, Mr. Owen Harris    male  22.0      1   \n",
      "1  Cumings, Mrs. John Bradley (Florence Briggs Th...  female  38.0      1   \n",
      "2                             Heikkinen, Miss. Laina  female  26.0      0   \n",
      "3       Futrelle, Mrs. Jacques Heath (Lily May Peel)  female  35.0      1   \n",
      "4                           Allen, Mr. William Henry    male  35.0      0   \n",
      "\n",
      "   Parch            Ticket     Fare Cabin Embarked  \n",
      "0      0         A/5 21171   7.2500   NaN        S  \n",
      "1      0          PC 17599  71.2833   C85        C  \n",
      "2      0  STON/O2. 3101282   7.9250   NaN        S  \n",
      "3      0            113803  53.1000  C123        S  \n",
      "4      0            373450   8.0500   NaN        S  \n",
      "<class 'pandas.core.frame.DataFrame'>\n",
      "RangeIndex: 891 entries, 0 to 890\n",
      "Data columns (total 12 columns):\n",
      " #   Column       Non-Null Count  Dtype  \n",
      "---  ------       --------------  -----  \n",
      " 0   PassengerId  891 non-null    int64  \n",
      " 1   Survived     891 non-null    int64  \n",
      " 2   Pclass       891 non-null    int64  \n",
      " 3   Name         891 non-null    object \n",
      " 4   Sex          891 non-null    object \n",
      " 5   Age          714 non-null    float64\n",
      " 6   SibSp        891 non-null    int64  \n",
      " 7   Parch        891 non-null    int64  \n",
      " 8   Ticket       891 non-null    object \n",
      " 9   Fare         891 non-null    float64\n",
      " 10  Cabin        204 non-null    object \n",
      " 11  Embarked     889 non-null    object \n",
      "dtypes: float64(2), int64(5), object(5)\n",
      "memory usage: 83.7+ KB\n"
     ]
    }
   ],
   "source": [
    "display(train.head())\n",
    "train.info()\n"
   ]
  },
  {
   "cell_type": "code",
   "execution_count": null,
   "metadata": {},
   "outputs": [
    {
     "ename": "NameError",
     "evalue": "name 'test' is not defined",
     "output_type": "error",
     "traceback": [
      "\u001b[0;31m---------------------------------------------------------------------------\u001b[0m",
      "\u001b[0;31mNameError\u001b[0m                                 Traceback (most recent call last)",
      "Cell \u001b[0;32mIn[2], line 1\u001b[0m\n\u001b[0;32m----> 1\u001b[0m display(test\u001b[39m.\u001b[39mhead())\n\u001b[1;32m      2\u001b[0m test\u001b[39m.\u001b[39minfo()\n",
      "\u001b[0;31mNameError\u001b[0m: name 'test' is not defined"
     ]
    }
   ],
   "source": [
    "display(test.head())\n",
    "test.info()"
   ]
  },
  {
   "cell_type": "code",
   "execution_count": null,
   "metadata": {},
   "outputs": [
    {
     "name": "stdout",
     "output_type": "stream",
     "text": [
      "<class 'pandas.core.frame.DataFrame'>\n",
      "Int64Index: 1309 entries, 0 to 1308\n",
      "Data columns (total 22 columns):\n",
      " #   Column       Non-Null Count  Dtype  \n",
      "---  ------       --------------  -----  \n",
      " 0   PassengerId  1309 non-null   int64  \n",
      " 1   Survived     891 non-null    float64\n",
      " 2   Pclass_x     891 non-null    float64\n",
      " 3   Name_x       891 non-null    object \n",
      " 4   Sex_x        891 non-null    object \n",
      " 5   Age_x        714 non-null    float64\n",
      " 6   SibSp_x      891 non-null    float64\n",
      " 7   Parch_x      891 non-null    float64\n",
      " 8   Ticket_x     891 non-null    object \n",
      " 9   Fare_x       891 non-null    float64\n",
      " 10  Cabin_x      204 non-null    object \n",
      " 11  Embarked_x   889 non-null    object \n",
      " 12  Pclass_y     418 non-null    float64\n",
      " 13  Name_y       418 non-null    object \n",
      " 14  Sex_y        418 non-null    object \n",
      " 15  Age_y        332 non-null    float64\n",
      " 16  SibSp_y      418 non-null    float64\n",
      " 17  Parch_y      418 non-null    float64\n",
      " 18  Ticket_y     418 non-null    object \n",
      " 19  Fare_y       417 non-null    float64\n",
      " 20  Cabin_y      91 non-null     object \n",
      " 21  Embarked_y   418 non-null    object \n",
      "dtypes: float64(11), int64(1), object(10)\n",
      "memory usage: 235.2+ KB\n"
     ]
    }
   ],
   "source": [
    "titanic_df = pd.concat([train, test], axis=0, ignore_index=True)\n",
    "titanic_df.to_csv('merged.csv', index=False)\n",
    "titanic_df['Age'].fillna(titanic_df['Age'].median(), inplace=True)\n",
    "titanic_df = titanic_df.dropna()\n",
    "duplicates = titanic_df.duplicated()\n",
    "(duplicates.sum())\n",
    "titanic_df.info()\n"
   ]
  },
  {
   "cell_type": "code",
   "execution_count": null,
   "metadata": {},
   "outputs": [
    {
     "name": "stdout",
     "output_type": "stream",
     "text": [
      "Index(['PassengerId', 'Survived', 'Pclass_x', 'Name_x', 'Sex_x', 'Age_x',\n",
      "       'SibSp_x', 'Parch_x', 'Ticket_x', 'Fare_x', 'Cabin_x', 'Embarked_x',\n",
      "       'Pclass_y', 'Name_y', 'Sex_y', 'Age_y', 'SibSp_y', 'Parch_y',\n",
      "       'Ticket_y', 'Fare_y', 'Cabin_y', 'Embarked_y'],\n",
      "      dtype='object')\n"
     ]
    }
   ],
   "source": [
    "print(titanic_df.columns)\n"
   ]
  },
  {
   "cell_type": "code",
   "execution_count": null,
   "metadata": {},
   "outputs": [
    {
     "name": "stderr",
     "output_type": "stream",
     "text": [
      "2023-04-26 15:20:31.930 \n",
      "  \u001b[33m\u001b[1mWarning:\u001b[0m to view this Streamlit app on a browser, run it with the following\n",
      "  command:\n",
      "\n",
      "    streamlit run /Users/zoeyespinoza/anaconda3/lib/python3.10/site-packages/ipykernel_launcher.py [ARGUMENTS]\n"
     ]
    }
   ],
   "source": [
    "st.header(\"Titanic Passenger Data\")\n",
    "color_by_survival = st.checkbox(\"Color by Survival\")\n"
   ]
  },
  {
   "cell_type": "code",
   "execution_count": 1,
   "metadata": {},
   "outputs": [
    {
     "ename": "NameError",
     "evalue": "name 'px' is not defined",
     "output_type": "error",
     "traceback": [
      "\u001b[0;31m---------------------------------------------------------------------------\u001b[0m",
      "\u001b[0;31mNameError\u001b[0m                                 Traceback (most recent call last)",
      "Cell \u001b[0;32mIn[1], line 1\u001b[0m\n\u001b[0;32m----> 1\u001b[0m fig_age \u001b[39m=\u001b[39m px\u001b[39m.\u001b[39mhistogram(titanic_df, x\u001b[39m=\u001b[39m\u001b[39m\"\u001b[39m\u001b[39mAge\u001b[39m\u001b[39m\"\u001b[39m, nbins\u001b[39m=\u001b[39m\u001b[39m20\u001b[39m,\n\u001b[1;32m      2\u001b[0m                        color\u001b[39m=\u001b[39m\u001b[39m\"\u001b[39m\u001b[39mSurvived\u001b[39m\u001b[39m\"\u001b[39m,\n\u001b[1;32m      3\u001b[0m                        title\u001b[39m=\u001b[39m\u001b[39m\"\u001b[39m\u001b[39mDistribution of Passenger Age\u001b[39m\u001b[39m\"\u001b[39m)\n\u001b[1;32m      6\u001b[0m fig_fare \u001b[39m=\u001b[39m px\u001b[39m.\u001b[39mhistogram(titanic_df, x\u001b[39m=\u001b[39m\u001b[39m\"\u001b[39m\u001b[39mFare\u001b[39m\u001b[39m\"\u001b[39m, nbins\u001b[39m=\u001b[39m\u001b[39m20\u001b[39m, \n\u001b[1;32m      7\u001b[0m                         color\u001b[39m=\u001b[39m\u001b[39m\"\u001b[39m\u001b[39mSurvived\u001b[39m\u001b[39m\"\u001b[39m,\n\u001b[1;32m      8\u001b[0m                         title\u001b[39m=\u001b[39m\u001b[39m\"\u001b[39m\u001b[39mDistribution of Passenger Fares\u001b[39m\u001b[39m\"\u001b[39m)\n\u001b[1;32m     10\u001b[0m fig_scatter \u001b[39m=\u001b[39m px\u001b[39m.\u001b[39mscatter(titanic_df, x\u001b[39m=\u001b[39m\u001b[39m\"\u001b[39m\u001b[39mAge\u001b[39m\u001b[39m\"\u001b[39m, y\u001b[39m=\u001b[39m\u001b[39m\"\u001b[39m\u001b[39mFare\u001b[39m\u001b[39m\"\u001b[39m, \n\u001b[1;32m     11\u001b[0m                          color\u001b[39m=\u001b[39m\u001b[39m\"\u001b[39m\u001b[39mSurvived\u001b[39m\u001b[39m\"\u001b[39m,\n\u001b[1;32m     12\u001b[0m                          title\u001b[39m=\u001b[39m\u001b[39m\"\u001b[39m\u001b[39mPassenger Age vs. Fare\u001b[39m\u001b[39m\"\u001b[39m)\n",
      "\u001b[0;31mNameError\u001b[0m: name 'px' is not defined"
     ]
    }
   ],
   "source": [
    "fig_age = px.histogram(titanic_df, x=\"Age\", nbins=20,\n",
    "                       color=\"Survived\",\n",
    "                       title=\"Distribution of Passenger Age\")\n",
    "\n",
    "\n",
    "fig_fare = px.histogram(titanic_df, x=\"Fare\", nbins=20, \n",
    "                        color=\"Survived\",\n",
    "                        title=\"Distribution of Passenger Fares\")\n",
    "\n",
    "fig_scatter = px.scatter(titanic_df, x=\"Age\", y=\"Fare\", \n",
    "                         color=\"Survived\",\n",
    "                         title=\"Passenger Age vs. Fare\")\n",
    "if color_by_survival:\n",
    "    st.plotly_chart(fig_age, use_container_width=True)\n",
    "    st.plotly_chart(fig_fare, use_container_width=True)\n",
    "    st.plotly_chart(fig_scatter, use_container_width=True)\n",
    "else:\n",
    "    st.plotly_chart(fig_age.update_traces(\n",
    "        marker_color='blue'), use_container_width=True)\n",
    "    st.plotly_chart(fig_fare.update_traces(\n",
    "        marker_color='blue'), use_container_width=True)\n",
    "    st.plotly_chart(fig_scatter.update_traces(\n",
    "        marker_color='blue'), use_container_width=True)\n",
    "\n",
    "fig_age.show()\n",
    "fig_fare.show()\n",
    "fig_scatter.show()\n"
   ]
  },
  {
   "attachments": {},
   "cell_type": "markdown",
   "metadata": {},
   "source": [
    "### Project Conclusion:\n",
    "In this project, we analyzed a dataset of Titanic passenger data and explored the relationships between factors such as age, fare, and survival. Analysis revealed that the survival rate was higher for passengers who were female, younger, and in higher classes. We also found that there was a positive correlation between fare and survival.\n",
    "\n",
    "These findings suggest that factors such as gender, age, and socioeconomic status played a significant role in determining survival outcomes. This also provides insights into patterns that could be used to understand survival rates in future emergency situations."
   ]
  }
 ],
 "metadata": {
  "kernelspec": {
   "display_name": "base",
   "language": "python",
   "name": "python3"
  },
  "language_info": {
   "codemirror_mode": {
    "name": "ipython",
    "version": 3
   },
   "file_extension": ".py",
   "mimetype": "text/x-python",
   "name": "python",
   "nbconvert_exporter": "python",
   "pygments_lexer": "ipython3",
   "version": "3.10.9"
  },
  "orig_nbformat": 4
 },
 "nbformat": 4,
 "nbformat_minor": 2
}
